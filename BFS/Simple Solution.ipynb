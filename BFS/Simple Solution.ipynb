{
 "cells": [
  {
   "cell_type": "code",
   "execution_count": 1,
   "metadata": {},
   "outputs": [],
   "source": [
    "graph = { \n",
    "    \"1\": [\"4\", \"2\"],\n",
    "    \"2\": [\"3\", \"8\", \"1\", \"5\", \"7\"],\n",
    "    \"3\":[\"9\", \"10\", \"2\", \"4\"],\n",
    "    \"4\":[\"3\"],\n",
    "    \"5\":[\"6\", \"7\", \"2\", \"8\"],\n",
    "    \"6\":[],\n",
    "    \"7\":[\"8\", \"5\", \"2\"],\n",
    "    \"8\": [\"2\", \"7\", \"5\"],\n",
    "    \"9\":[],\n",
    "    \"10\": []\n",
    "}"
   ]
  },
  {
   "cell_type": "code",
   "execution_count": 4,
   "metadata": {},
   "outputs": [],
   "source": [
    "def BreadthFirstSearch(graph, start, end):\n",
    "    explored = []\n",
    "    queue = [[start]]\n",
    "    \n",
    "    while queue:\n",
    "        path = queue.pop()\n",
    "        node = path[-1]\n",
    "\n",
    "        if node not in explored:\n",
    "            neighbours = graph[node]\n",
    "\n",
    "            for neighbour in neighbours:\n",
    "                new_path = list(path)\n",
    "                new_path.append(neighbour)\n",
    "                queue.append(new_path)\n",
    "\n",
    "                if neighbour == end:\n",
    "                    return new_path\n",
    "\n",
    "            explored.append(node)\n",
    "\n",
    "    return explored"
   ]
  },
  {
   "cell_type": "code",
   "execution_count": 5,
   "metadata": {},
   "outputs": [
    {
     "data": {
      "text/plain": [
       "['1', '2', '3']"
      ]
     },
     "execution_count": 5,
     "metadata": {},
     "output_type": "execute_result"
    }
   ],
   "source": [
    "BreadthFirstSearch(graph, '1', '3')"
   ]
  },
  {
   "cell_type": "code",
   "execution_count": null,
   "metadata": {},
   "outputs": [],
   "source": []
  }
 ],
 "metadata": {
  "kernelspec": {
   "display_name": "Python 3",
   "language": "python",
   "name": "python3"
  },
  "language_info": {
   "codemirror_mode": {
    "name": "ipython",
    "version": 3
   },
   "file_extension": ".py",
   "mimetype": "text/x-python",
   "name": "python",
   "nbconvert_exporter": "python",
   "pygments_lexer": "ipython3",
   "version": "3.7.2"
  }
 },
 "nbformat": 4,
 "nbformat_minor": 2
}
