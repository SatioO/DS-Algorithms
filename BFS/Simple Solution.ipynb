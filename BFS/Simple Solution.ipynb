{
 "cells": [
  {
   "cell_type": "code",
   "execution_count": 9,
   "metadata": {},
   "outputs": [],
   "source": [
    "# https://pythoninwonderland.wordpress.com/2017/03/18/how-to-implement-breadth-first-search-in-python/\n",
    "graph = { \n",
    "    \"1\": [\"4\", \"2\"],\n",
    "    \"2\": [\"3\", \"8\", \"1\", \"5\", \"7\"],\n",
    "    \"3\":[\"9\", \"10\", \"2\", \"4\"],\n",
    "    \"4\":[\"3\"],\n",
    "    \"5\":[\"6\", \"7\", \"2\", \"8\"],\n",
    "    \"6\":[],\n",
    "    \"7\":[\"8\", \"5\", \"2\"],\n",
    "    \"8\": [\"2\", \"7\", \"5\"],\n",
    "    \"9\":[],\n",
    "    \"10\": []\n",
    "}"
   ]
  },
  {
   "cell_type": "code",
   "execution_count": 7,
   "metadata": {},
   "outputs": [],
   "source": [
    "def BreadthFirstSearch(graph, start, end):\n",
    "    explored = []\n",
    "    queue = [[start]]\n",
    "    \n",
    "    while queue:\n",
    "        path = queue.pop()\n",
    "        node = path[-1]\n",
    "\n",
    "        if node not in explored:\n",
    "            neighbours = graph[node]\n",
    "\n",
    "            for neighbour in neighbours:\n",
    "                new_path = list(path)\n",
    "                new_path.append(neighbour)\n",
    "                queue.append(new_path)\n",
    "\n",
    "                if neighbour == end:\n",
    "                    return new_path\n",
    "\n",
    "            explored.append(node)\n",
    "\n",
    "    return explored"
   ]
  },
  {
   "cell_type": "code",
   "execution_count": 8,
   "metadata": {},
   "outputs": [
    {
     "data": {
      "text/plain": [
       "['1', '2', '3']"
      ]
     },
     "execution_count": 8,
     "metadata": {},
     "output_type": "execute_result"
    }
   ],
   "source": [
    "BreadthFirstSearch(graph, '1', '3')"
   ]
  },
  {
   "cell_type": "code",
   "execution_count": 36,
   "metadata": {},
   "outputs": [],
   "source": [
    "from collections import deque\n",
    "\n",
    "def BFS(graph, start):\n",
    "    visited = []\n",
    "    queue = deque(start)\n",
    "    \n",
    "    while queue:\n",
    "        node = queue.popleft()\n",
    "    \n",
    "        if node not in visited:\n",
    "            neighbours = graph[node]\n",
    "            \n",
    "            for neighbour in neighbours:\n",
    "                queue.append(neighbour)\n",
    "            visited.append(node)\n",
    "            \n",
    "    return visited"
   ]
  },
  {
   "cell_type": "code",
   "execution_count": 37,
   "metadata": {},
   "outputs": [
    {
     "name": "stdout",
     "output_type": "stream",
     "text": [
      "deque(['1'])\n",
      "deque(['4', '2'])\n",
      "deque(['2', '3'])\n",
      "deque(['3', '3', '8', '1', '5', '7'])\n",
      "deque(['3', '8', '1', '5', '7', '9', '10', '2', '4'])\n",
      "deque(['8', '1', '5', '7', '9', '10', '2', '4'])\n",
      "deque(['1', '5', '7', '9', '10', '2', '4', '2', '7', '5'])\n",
      "deque(['5', '7', '9', '10', '2', '4', '2', '7', '5'])\n",
      "deque(['7', '9', '10', '2', '4', '2', '7', '5', '6', '7', '2', '8'])\n",
      "deque(['9', '10', '2', '4', '2', '7', '5', '6', '7', '2', '8', '8', '5', '2'])\n",
      "deque(['10', '2', '4', '2', '7', '5', '6', '7', '2', '8', '8', '5', '2'])\n",
      "deque(['2', '4', '2', '7', '5', '6', '7', '2', '8', '8', '5', '2'])\n",
      "deque(['4', '2', '7', '5', '6', '7', '2', '8', '8', '5', '2'])\n",
      "deque(['2', '7', '5', '6', '7', '2', '8', '8', '5', '2'])\n",
      "deque(['7', '5', '6', '7', '2', '8', '8', '5', '2'])\n",
      "deque(['5', '6', '7', '2', '8', '8', '5', '2'])\n",
      "deque(['6', '7', '2', '8', '8', '5', '2'])\n",
      "deque(['7', '2', '8', '8', '5', '2'])\n",
      "deque(['2', '8', '8', '5', '2'])\n",
      "deque(['8', '8', '5', '2'])\n",
      "deque(['8', '5', '2'])\n",
      "deque(['5', '2'])\n",
      "deque(['2'])\n"
     ]
    },
    {
     "data": {
      "text/plain": [
       "['1', '4', '2', '3', '8', '5', '7', '9', '10', '6']"
      ]
     },
     "execution_count": 37,
     "metadata": {},
     "output_type": "execute_result"
    }
   ],
   "source": [
    "BFS(graph, \"1\")"
   ]
  },
  {
   "cell_type": "code",
   "execution_count": 38,
   "metadata": {},
   "outputs": [],
   "source": [
    "graph1 = {\n",
    "    \"A\": [\"B\", \"C\", \"D\"],\n",
    "    \"B\": [],\n",
    "    \"C\": [\"E\", \"F\"],\n",
    "    \"D\": [\"F\"],\n",
    "    \"E\": [],\n",
    "    \"F\": []\n",
    "}"
   ]
  },
  {
   "cell_type": "code",
   "execution_count": 39,
   "metadata": {},
   "outputs": [
    {
     "name": "stdout",
     "output_type": "stream",
     "text": [
      "deque(['A'])\n",
      "deque(['B', 'C', 'D'])\n",
      "deque(['C', 'D'])\n",
      "deque(['D', 'E', 'F'])\n",
      "deque(['E', 'F', 'F'])\n",
      "deque(['F', 'F'])\n",
      "deque(['F'])\n"
     ]
    },
    {
     "data": {
      "text/plain": [
       "['A', 'B', 'C', 'D', 'E', 'F']"
      ]
     },
     "execution_count": 39,
     "metadata": {},
     "output_type": "execute_result"
    }
   ],
   "source": [
    "BFS(graph1, \"A\")"
   ]
  },
  {
   "cell_type": "code",
   "execution_count": null,
   "metadata": {},
   "outputs": [],
   "source": []
  }
 ],
 "metadata": {
  "kernelspec": {
   "display_name": "Python 3",
   "language": "python",
   "name": "python3"
  },
  "language_info": {
   "codemirror_mode": {
    "name": "ipython",
    "version": 3
   },
   "file_extension": ".py",
   "mimetype": "text/x-python",
   "name": "python",
   "nbconvert_exporter": "python",
   "pygments_lexer": "ipython3",
   "version": "3.7.2"
  }
 },
 "nbformat": 4,
 "nbformat_minor": 2
}
