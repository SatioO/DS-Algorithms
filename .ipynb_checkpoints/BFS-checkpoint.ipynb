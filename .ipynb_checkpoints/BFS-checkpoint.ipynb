{
 "cells": [
  {
   "cell_type": "code",
   "execution_count": 1,
   "metadata": {},
   "outputs": [],
   "source": [
    "# https://pythoninwonderland.wordpress.com/2017/03/18/how-to-implement-breadth-first-search-in-python/"
   ]
  },
  {
   "cell_type": "code",
   "execution_count": 25,
   "metadata": {},
   "outputs": [],
   "source": [
    "graph = { \n",
    "    \"1\": [\"4\", \"2\"],\n",
    "    \"2\": [\"3\", \"8\", \"1\", \"5\", \"7\"],\n",
    "    \"3\":[\"9\", \"10\", \"2\", \"4\"],\n",
    "    \"4\":[\"3\"],\n",
    "    \"5\":[\"6\", \"7\", \"2\", \"8\"],\n",
    "    \"6\":[],\n",
    "    \"7\":[\"8\", \"5\", \"2\"],\n",
    "    \"8\": [\"2\", \"7\", \"5\"],\n",
    "    \"9\":[],\n",
    "    \"10\": []\n",
    "}"
   ]
  },
  {
   "cell_type": "code",
   "execution_count": 34,
   "metadata": {},
   "outputs": [
    {
     "name": "stdout",
     "output_type": "stream",
     "text": [
      "NODE 2\n",
      "['3', '8', '1', '5', '7']\n",
      "[['2', '3'], ['2', '8'], ['2', '1'], ['2', '5'], ['2', '7']]\n",
      "-------------------------------------\n",
      "NODE 7\n",
      "['8', '5', '2']\n",
      "[['2', '3'], ['2', '8'], ['2', '1'], ['2', '5'], ['2', '7', '8'], ['2', '7', '5'], ['2', '7', '2']]\n",
      "-------------------------------------\n",
      "NODE 2\n",
      "[['2', '3'], ['2', '8'], ['2', '1'], ['2', '5'], ['2', '7', '8'], ['2', '7', '5']]\n",
      "-------------------------------------\n",
      "NODE 5\n",
      "['6', '7', '2', '8']\n",
      "[['2', '3'], ['2', '8'], ['2', '1'], ['2', '5'], ['2', '7', '8'], ['2', '7', '5', '6'], ['2', '7', '5', '7'], ['2', '7', '5', '2'], ['2', '7', '5', '8']]\n",
      "-------------------------------------\n",
      "NODE 8\n",
      "['2', '7', '5']\n",
      "[['2', '3'], ['2', '8'], ['2', '1'], ['2', '5'], ['2', '7', '8'], ['2', '7', '5', '6'], ['2', '7', '5', '7'], ['2', '7', '5', '2'], ['2', '7', '5', '8', '2'], ['2', '7', '5', '8', '7'], ['2', '7', '5', '8', '5']]\n",
      "-------------------------------------\n",
      "NODE 5\n",
      "[['2', '3'], ['2', '8'], ['2', '1'], ['2', '5'], ['2', '7', '8'], ['2', '7', '5', '6'], ['2', '7', '5', '7'], ['2', '7', '5', '2'], ['2', '7', '5', '8', '2'], ['2', '7', '5', '8', '7']]\n",
      "-------------------------------------\n",
      "NODE 7\n",
      "[['2', '3'], ['2', '8'], ['2', '1'], ['2', '5'], ['2', '7', '8'], ['2', '7', '5', '6'], ['2', '7', '5', '7'], ['2', '7', '5', '2'], ['2', '7', '5', '8', '2']]\n",
      "-------------------------------------\n",
      "NODE 2\n",
      "[['2', '3'], ['2', '8'], ['2', '1'], ['2', '5'], ['2', '7', '8'], ['2', '7', '5', '6'], ['2', '7', '5', '7'], ['2', '7', '5', '2']]\n",
      "-------------------------------------\n",
      "NODE 2\n",
      "[['2', '3'], ['2', '8'], ['2', '1'], ['2', '5'], ['2', '7', '8'], ['2', '7', '5', '6'], ['2', '7', '5', '7']]\n",
      "-------------------------------------\n",
      "NODE 7\n",
      "[['2', '3'], ['2', '8'], ['2', '1'], ['2', '5'], ['2', '7', '8'], ['2', '7', '5', '6']]\n",
      "-------------------------------------\n",
      "NODE 6\n",
      "[]\n",
      "[['2', '3'], ['2', '8'], ['2', '1'], ['2', '5'], ['2', '7', '8']]\n",
      "-------------------------------------\n",
      "NODE 8\n",
      "[['2', '3'], ['2', '8'], ['2', '1'], ['2', '5']]\n",
      "-------------------------------------\n",
      "NODE 5\n",
      "[['2', '3'], ['2', '8'], ['2', '1']]\n",
      "-------------------------------------\n",
      "NODE 1\n",
      "['4', '2']\n",
      "['2', '1', '4']\n"
     ]
    },
    {
     "data": {
      "text/plain": [
       "['2', '1', '4']"
      ]
     },
     "execution_count": 34,
     "metadata": {},
     "output_type": "execute_result"
    }
   ],
   "source": [
    "def BFS1(graph, start, goal):\n",
    "    visited = []\n",
    "    visiting = [[start]]\n",
    "    \n",
    "    if start == goal:\n",
    "        return \"That was Easy\"\n",
    "    \n",
    "    while visiting:\n",
    "        path = visiting.pop()\n",
    "        node = path[-1]\n",
    "        print(\"NODE\", node)\n",
    "        \n",
    "        if node not in visited:\n",
    "            neighbours = graph[node]\n",
    "            print(neighbours)\n",
    "            \n",
    "            for neighbour in neighbours:\n",
    "                new_path = list(path)\n",
    "                new_path.append(neighbour)\n",
    "                visiting.append(new_path)\n",
    "                \n",
    "                \n",
    "                if neighbour == goal:\n",
    "                    print(new_path)\n",
    "                    return new_path\n",
    "                \n",
    "            # mark node as explored\n",
    "            visited.append(node)\n",
    "        \n",
    "        print(visiting)\n",
    "        print(\"-------------------------------------\")\n",
    "        \n",
    "    return visited\n",
    "    \n",
    "BFS1(graph, \"2\", \"4\")\n",
    "\n"
   ]
  },
  {
   "cell_type": "code",
   "execution_count": 1,
   "metadata": {},
   "outputs": [],
   "source": [
    "graph = { \n",
    "    \"1\": [\"4\", \"2\"],\n",
    "    \"2\": [\"3\", \"8\", \"1\", \"5\", \"7\"],\n",
    "    \"3\":[\"9\", \"10\", \"2\", \"4\"],\n",
    "    \"4\":[\"3\"],\n",
    "    \"5\":[\"6\", \"7\", \"2\", \"8\"],\n",
    "    \"6\":[],\n",
    "    \"7\":[\"8\", \"5\", \"2\"],\n",
    "    \"8\": [\"2\", \"7\", \"5\"],\n",
    "    \"9\":[],\n",
    "    \"10\": []\n",
    "}"
   ]
  },
  {
   "cell_type": "code",
   "execution_count": 31,
   "metadata": {},
   "outputs": [],
   "source": [
    "def BreadthFirstSearch(graph, start, end):\n",
    "    explored = []\n",
    "    queue = [[start]]\n",
    "    \n",
    "    while queue:\n",
    "        path = queue.pop()\n",
    "        node = path[-1]\n",
    "\n",
    "        if node not in explored:\n",
    "            neighbours = graph[node]\n",
    "\n",
    "            for neighbour in neighbours:\n",
    "                new_path = list(path)\n",
    "                new_path.append(neighbour)\n",
    "                queue.append(new_path)\n",
    "\n",
    "                if neighbour == end:\n",
    "                    return new_path\n",
    "\n",
    "            explored.append(node)\n",
    "\n",
    "    return explored"
   ]
  },
  {
   "cell_type": "code",
   "execution_count": 35,
   "metadata": {},
   "outputs": [
    {
     "name": "stdout",
     "output_type": "stream",
     "text": [
      "[['1']]\n",
      "[['1', '4'], ['1', '2']]\n"
     ]
    },
    {
     "data": {
      "text/plain": [
       "['1', '2', '3']"
      ]
     },
     "execution_count": 35,
     "metadata": {},
     "output_type": "execute_result"
    }
   ],
   "source": [
    "BreadthFirstSearch(graph, '1', '3')"
   ]
  },
  {
   "cell_type": "code",
   "execution_count": null,
   "metadata": {},
   "outputs": [],
   "source": []
  },
  {
   "cell_type": "code",
   "execution_count": null,
   "metadata": {},
   "outputs": [],
   "source": []
  }
 ],
 "metadata": {
  "kernelspec": {
   "display_name": "Python 3",
   "language": "python",
   "name": "python3"
  },
  "language_info": {
   "codemirror_mode": {
    "name": "ipython",
    "version": 3
   },
   "file_extension": ".py",
   "mimetype": "text/x-python",
   "name": "python",
   "nbconvert_exporter": "python",
   "pygments_lexer": "ipython3",
   "version": "3.7.2"
  }
 },
 "nbformat": 4,
 "nbformat_minor": 2
}
