{
 "cells": [
  {
   "cell_type": "code",
   "execution_count": 139,
   "metadata": {},
   "outputs": [],
   "source": [
    "graph = { \n",
    "    \"1\": [\"4\", \"2\"],\n",
    "    \"2\": [\"3\", \"8\", \"1\", \"5\", \"7\"],\n",
    "    \"3\":[\"9\", \"10\", \"2\", \"4\"],\n",
    "    \"4\":[\"3\"],\n",
    "    \"5\":[\"6\", \"7\", \"2\", \"8\"],\n",
    "    \"6\":[],\n",
    "    \"7\":[\"8\", \"5\", \"2\"],\n",
    "    \"8\": [\"2\", \"7\", \"5\"],\n",
    "    \"9\":[],\n",
    "    \"10\": []\n",
    "}"
   ]
  },
  {
   "cell_type": "code",
   "execution_count": 140,
   "metadata": {},
   "outputs": [],
   "source": [
    "def BFS(graph, start, end):\n",
    "    visited = []\n",
    "    queue = [start]\n",
    "    \n",
    "    while queue:\n",
    "        node = queue.pop()\n",
    "        if node not in visited:\n",
    "            neighbours = graph[node]\n",
    "        \n",
    "            for neighbour in neighbours:\n",
    "                queue.append(neighbour)\n",
    "            \n",
    "            visited.append(node)\n",
    "        \n",
    "    return visited"
   ]
  },
  {
   "cell_type": "code",
   "execution_count": 141,
   "metadata": {},
   "outputs": [
    {
     "ename": "KeyError",
     "evalue": "'1'",
     "output_type": "error",
     "traceback": [
      "\u001b[0;31m---------------------------------------------------------------------------\u001b[0m",
      "\u001b[0;31mKeyError\u001b[0m                                  Traceback (most recent call last)",
      "\u001b[0;32m<ipython-input-141-84e5b76efcdc>\u001b[0m in \u001b[0;36m<module>\u001b[0;34m\u001b[0m\n\u001b[0;32m----> 1\u001b[0;31m \u001b[0mBFS\u001b[0m\u001b[0;34m(\u001b[0m\u001b[0mgraph\u001b[0m\u001b[0;34m,\u001b[0m \u001b[0;34m\"1\"\u001b[0m\u001b[0;34m,\u001b[0m \u001b[0;34m\"3\"\u001b[0m\u001b[0;34m)\u001b[0m\u001b[0;34m\u001b[0m\u001b[0;34m\u001b[0m\u001b[0m\n\u001b[0m",
      "\u001b[0;32m<ipython-input-140-9dc675531e93>\u001b[0m in \u001b[0;36mBFS\u001b[0;34m(graph, start, end)\u001b[0m\n\u001b[1;32m      6\u001b[0m         \u001b[0mnode\u001b[0m \u001b[0;34m=\u001b[0m \u001b[0mqueue\u001b[0m\u001b[0;34m.\u001b[0m\u001b[0mpop\u001b[0m\u001b[0;34m(\u001b[0m\u001b[0;34m)\u001b[0m\u001b[0;34m\u001b[0m\u001b[0;34m\u001b[0m\u001b[0m\n\u001b[1;32m      7\u001b[0m         \u001b[0;32mif\u001b[0m \u001b[0mnode\u001b[0m \u001b[0;32mnot\u001b[0m \u001b[0;32min\u001b[0m \u001b[0mvisited\u001b[0m\u001b[0;34m:\u001b[0m\u001b[0;34m\u001b[0m\u001b[0;34m\u001b[0m\u001b[0m\n\u001b[0;32m----> 8\u001b[0;31m             \u001b[0mneighbours\u001b[0m \u001b[0;34m=\u001b[0m \u001b[0mgraph\u001b[0m\u001b[0;34m[\u001b[0m\u001b[0mnode\u001b[0m\u001b[0;34m]\u001b[0m\u001b[0;34m\u001b[0m\u001b[0;34m\u001b[0m\u001b[0m\n\u001b[0m\u001b[1;32m      9\u001b[0m \u001b[0;34m\u001b[0m\u001b[0m\n\u001b[1;32m     10\u001b[0m             \u001b[0;32mfor\u001b[0m \u001b[0mneighbour\u001b[0m \u001b[0;32min\u001b[0m \u001b[0mneighbours\u001b[0m\u001b[0;34m:\u001b[0m\u001b[0;34m\u001b[0m\u001b[0;34m\u001b[0m\u001b[0m\n",
      "\u001b[0;31mKeyError\u001b[0m: '1'"
     ]
    }
   ],
   "source": [
    "BFS(graph, \"1\", \"3\")"
   ]
  },
  {
   "cell_type": "code",
   "execution_count": 154,
   "metadata": {},
   "outputs": [],
   "source": [
    "def DFS(graph, node):\n",
    "    visited = [node]\n",
    "    stack = [node]\n",
    "    \n",
    "    while stack:\n",
    "        node = stack[-1]\n",
    "        if node not in visited:\n",
    "            visited.extend(node)\n",
    "        remove_from_stack = True\n",
    "\n",
    "        for neighbour in graph[node]:\n",
    "            if neighbour not in visited:\n",
    "                stack.extend(neighbour)\n",
    "                remove_from_stack = False\n",
    "                break\n",
    "\n",
    "        if remove_from_stack:\n",
    "            stack.pop()\n",
    "    return visited"
   ]
  },
  {
   "cell_type": "code",
   "execution_count": 155,
   "metadata": {},
   "outputs": [
    {
     "name": "stdout",
     "output_type": "stream",
     "text": [
      "A\n",
      "B\n",
      "A\n",
      "S\n",
      "C\n",
      "D\n",
      "C\n",
      "E\n",
      "H\n",
      "G\n",
      "F\n",
      "G\n",
      "H\n",
      "E\n",
      "C\n",
      "S\n",
      "A\n"
     ]
    },
    {
     "data": {
      "text/plain": [
       "['A', 'B', 'S', 'C', 'D', 'E', 'H', 'G', 'F']"
      ]
     },
     "execution_count": 155,
     "metadata": {},
     "output_type": "execute_result"
    }
   ],
   "source": [
    "DFS(graph, \"A\")"
   ]
  },
  {
   "cell_type": "code",
   "execution_count": null,
   "metadata": {},
   "outputs": [],
   "source": [
    "graph = {\n",
    "    'A' : ['B','S'],\n",
    "    'B' : ['A'],\n",
    "    'C' : ['D','E','F','S'],\n",
    "    'D' : ['C'],\n",
    "    'E' : ['C','H'],\n",
    "    'F' : ['C','G'],\n",
    "    'G' : ['F','S'],\n",
    "    'H' : ['E','G'],\n",
    "    'S' : ['A','C','G']\n",
    "}"
   ]
  },
  {
   "cell_type": "code",
   "execution_count": 177,
   "metadata": {},
   "outputs": [],
   "source": [
    "def BFS(graph, start, end):\n",
    "    visited = []\n",
    "    queue = [start]\n",
    "    \n",
    "    while queue:\n",
    "        print(queue)\n",
    "        node = queue.pop()\n",
    "        \n",
    "        if node not in visited:\n",
    "            for neighbour in graph[node]:\n",
    "                queue.append(neighbour)\n",
    "                \n",
    "            visited.append(node)\n",
    "    \n",
    "    return visited"
   ]
  },
  {
   "cell_type": "code",
   "execution_count": 178,
   "metadata": {},
   "outputs": [
    {
     "name": "stdout",
     "output_type": "stream",
     "text": [
      "['A']\n",
      "['B', 'S']\n",
      "['B', 'A', 'C', 'G']\n",
      "['B', 'A', 'C', 'F', 'S']\n",
      "['B', 'A', 'C', 'F']\n",
      "['B', 'A', 'C', 'C', 'G']\n",
      "['B', 'A', 'C', 'C']\n",
      "['B', 'A', 'C', 'D', 'E', 'F', 'S']\n",
      "['B', 'A', 'C', 'D', 'E', 'F']\n",
      "['B', 'A', 'C', 'D', 'E']\n",
      "['B', 'A', 'C', 'D', 'C', 'H']\n",
      "['B', 'A', 'C', 'D', 'C', 'E', 'G']\n",
      "['B', 'A', 'C', 'D', 'C', 'E']\n",
      "['B', 'A', 'C', 'D', 'C']\n",
      "['B', 'A', 'C', 'D']\n",
      "['B', 'A', 'C', 'C']\n",
      "['B', 'A', 'C']\n",
      "['B', 'A']\n",
      "['B']\n",
      "['A']\n"
     ]
    },
    {
     "data": {
      "text/plain": [
       "['A', 'S', 'G', 'F', 'C', 'E', 'H', 'D', 'B']"
      ]
     },
     "execution_count": 178,
     "metadata": {},
     "output_type": "execute_result"
    }
   ],
   "source": [
    "BFS(graph, \"A\", \"S\")"
   ]
  },
  {
   "cell_type": "code",
   "execution_count": null,
   "metadata": {},
   "outputs": [],
   "source": []
  }
 ],
 "metadata": {
  "kernelspec": {
   "display_name": "Python 3",
   "language": "python",
   "name": "python3"
  }
 },
 "nbformat": 4,
 "nbformat_minor": 2
}
